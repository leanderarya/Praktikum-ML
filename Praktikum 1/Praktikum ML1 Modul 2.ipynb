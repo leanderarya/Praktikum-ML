{
  "nbformat": 4,
  "nbformat_minor": 0,
  "metadata": {
    "colab": {
      "provenance": [],
      "toc_visible": true
    },
    "kernelspec": {
      "name": "python3",
      "display_name": "Python 3"
    },
    "language_info": {
      "name": "python"
    }
  },
  "cells": [
    {
      "cell_type": "markdown",
      "source": [
        "Nama : Arya Ajisadda Haryanto\n",
        "\n",
        "NIM  : 24060122140118\n",
        "\n",
        "Lab  : C1"
      ],
      "metadata": {
        "id": "dThppRAmDw1t"
      }
    },
    {
      "cell_type": "code",
      "execution_count": 10,
      "metadata": {
        "id": "h_QPap9Rrm_W"
      },
      "outputs": [],
      "source": [
        "import pandas as pd\n",
        "import numpy as np\n",
        "import matplotlib.pyplot as plt\n",
        "import seaborn as sns\n",
        "from pandas.plotting import scatter_matrix\n",
        "from sklearn import model_selection\n",
        "from sklearn.neighbors import KNeighborsClassifier\n",
        "from sklearn.tree import DecisionTreeClassifier\n",
        "from sklearn.svm import SVC\n",
        "from sklearn.naive_bayes import GaussianNB\n",
        "from sklearn.metrics import classification_report\n",
        "from sklearn.metrics import confusion_matrix\n",
        "from sklearn.metrics import accuracy_score\n",
        "\n",
        "url = \"http://archive.ics.uci.edu/ml/machine-learning-databases/iris/iris.data\"\n",
        "names = ['sepal-length', 'sepal-width', 'petal-length', 'petal-width', 'class']\n",
        "dataset = pd.read_csv(url, names=names)"
      ]
    },
    {
      "cell_type": "markdown",
      "source": [
        "Membuat Validasi Dataset"
      ],
      "metadata": {
        "id": "z3MzPUw6rzsV"
      }
    },
    {
      "cell_type": "code",
      "source": [
        "# split-out validation dataset\n",
        "array = dataset.values\n",
        "X = array[:,0:4]\n",
        "Y = array[:,4]\n",
        "validation_size = 0.20\n",
        "seed = 7\n",
        "\n",
        "X_train, X_validation, Y_train, Y_validation = model_selection.train_test_split(X, Y, test_size=validation_size, random_state=seed)"
      ],
      "metadata": {
        "id": "_ENMi3m8r2A7"
      },
      "execution_count": 4,
      "outputs": []
    },
    {
      "cell_type": "markdown",
      "source": [
        "K-Folds Cross Validation"
      ],
      "metadata": {
        "id": "CmQ06ekEulb-"
      }
    },
    {
      "cell_type": "code",
      "source": [
        "seed = 7\n",
        "scoring = 'accuracy'"
      ],
      "metadata": {
        "id": "vlc_QV69urrz"
      },
      "execution_count": 5,
      "outputs": []
    },
    {
      "cell_type": "markdown",
      "source": [
        "Membangun Model"
      ],
      "metadata": {
        "id": "ZJQBTGLwu5Qe"
      }
    },
    {
      "cell_type": "code",
      "source": [
        "# Spot Check Algorithms\n",
        "models = []\n",
        "models.append(('KNN', KNeighborsClassifier()))\n",
        "models.append(('NB', GaussianNB()))\n",
        "models.append(('SVM', SVC()))\n",
        "\n",
        "# Evaluate each model in turn\n",
        "results = []\n",
        "names = []\n",
        "\n",
        "for name, model in models:\n",
        "    kfold = model_selection.KFold(n_splits=10, random_state=seed, shuffle=True)\n",
        "    cv_results = model_selection.cross_val_score(model, X_train, Y_train, cv=kfold, scoring=scoring)\n",
        "    results.append(cv_results)\n",
        "    names.append(name)\n",
        "    msg = \"%s: %f (%f)\" % (name, cv_results.mean(), cv_results.std())\n",
        "    print(msg)"
      ],
      "metadata": {
        "colab": {
          "base_uri": "https://localhost:8080/"
        },
        "id": "oERIu6xsu6jj",
        "outputId": "cc0f6038-bdd2-4ed3-c724-555e559e7e4f"
      },
      "execution_count": 38,
      "outputs": [
        {
          "output_type": "stream",
          "name": "stdout",
          "text": [
            "KNN: 0.983333 (0.033333)\n",
            "NB: 0.966667 (0.040825)\n",
            "SVM: 0.983333 (0.033333)\n"
          ]
        }
      ]
    },
    {
      "cell_type": "markdown",
      "source": [
        "Memilih Model Terbaik"
      ],
      "metadata": {
        "id": "prxXBkO6vyd0"
      }
    },
    {
      "cell_type": "markdown",
      "source": [
        "## **Model SVM**"
      ],
      "metadata": {
        "id": "Po7kaXZxB6qb"
      }
    },
    {
      "cell_type": "code",
      "source": [
        "# Make predictions on validation dataset\n",
        "svm = SVC()\n",
        "svm.fit(X_train, Y_train)\n",
        "predictions = svm.predict(X_validation)\n",
        "print(accuracy_score(Y_validation, predictions))\n",
        "print(confusion_matrix(Y_validation, predictions))\n",
        "print(classification_report(Y_validation, predictions))"
      ],
      "metadata": {
        "colab": {
          "base_uri": "https://localhost:8080/"
        },
        "id": "RjYFglqrv7l3",
        "outputId": "f7e15f82-5d43-482b-9c3d-44e122b6ee83"
      },
      "execution_count": 39,
      "outputs": [
        {
          "output_type": "stream",
          "name": "stdout",
          "text": [
            "0.8666666666666667\n",
            "[[ 7  0  0]\n",
            " [ 0 10  2]\n",
            " [ 0  2  9]]\n",
            "                 precision    recall  f1-score   support\n",
            "\n",
            "    Iris-setosa       1.00      1.00      1.00         7\n",
            "Iris-versicolor       0.83      0.83      0.83        12\n",
            " Iris-virginica       0.82      0.82      0.82        11\n",
            "\n",
            "       accuracy                           0.87        30\n",
            "      macro avg       0.88      0.88      0.88        30\n",
            "   weighted avg       0.87      0.87      0.87        30\n",
            "\n"
          ]
        }
      ]
    },
    {
      "cell_type": "code",
      "source": [
        "cm = confusion_matrix(Y_validation, predictions)\n",
        "# Create a Pandas DataFrame from the confusion matrix\n",
        "classes = np.unique(Y_train)\n",
        "cm_df = pd.DataFrame(cm, index=classes, columns=classes)\n",
        "\n",
        "# Visualize the confusion matrix using Seaborn\n",
        "plt.figure(figsize=(4, 3))\n",
        "sns.heatmap(cm_df, annot=True, fmt=\"d\", cmap=\"Blues\")\n",
        "plt.title(\"Confusion Matrix SVM\")\n",
        "plt.ylabel(\"Actual Values\")\n",
        "plt.xlabel(\"Predicted Values\")\n",
        "plt.show()"
      ],
      "metadata": {
        "colab": {
          "base_uri": "https://localhost:8080/",
          "height": 412
        },
        "id": "YSfRYgvQxsHR",
        "outputId": "45da6a91-8e10-4d1e-b1bb-ea4b0022f7c5"
      },
      "execution_count": 40,
      "outputs": [
        {
          "output_type": "display_data",
          "data": {
            "text/plain": [
              "<Figure size 400x300 with 2 Axes>"
            ],
            "image/png": "[encoded data removed]"
          },
          "metadata": {}
        }
      ]
    },
    {
      "cell_type": "markdown",
      "source": [
        "## **Tugas Modul 2**"
      ],
      "metadata": {
        "id": "OEcgt_9ccbP4"
      }
    },
    {
      "cell_type": "markdown",
      "source": [
        "Buatlah evaluasi algoritma dengan dataset yang telah dicoba pada tugas praktikum sebelumnya (dengan menggunakan 3 model yaitu KNN, NB dan, SVM)!"
      ],
      "metadata": {
        "id": "UN5sA4fa_Ltb"
      }
    },
    {
      "cell_type": "markdown",
      "source": [
        "## **Model K-Nearest Neighbors (KNN)**"
      ],
      "metadata": {
        "id": "f0v5o-zBz26U"
      }
    },
    {
      "cell_type": "code",
      "source": [
        "knn = KNeighborsClassifier(n_neighbors=5) # Membuat model KNN dengan jumlah tetangga terdekat (n_neighbors)\n",
        "knn.fit(X_train, Y_train)\n",
        "predictions_knn = knn.predict(X_validation)\n",
        "print(accuracy_score(Y_validation, predictions_knn))\n",
        "print(confusion_matrix(Y_validation, predictions_knn))\n",
        "print(classification_report(Y_validation, predictions_knn))"
      ],
      "metadata": {
        "colab": {
          "base_uri": "https://localhost:8080/"
        },
        "id": "5-AspR-Yz-p6",
        "outputId": "0a3671cd-e8d7-4a5a-f046-03d657aa74cd"
      },
      "execution_count": 55,
      "outputs": [
        {
          "output_type": "stream",
          "name": "stdout",
          "text": [
            "0.9\n",
            "[[ 7  0  0]\n",
            " [ 0 11  1]\n",
            " [ 0  2  9]]\n",
            "                 precision    recall  f1-score   support\n",
            "\n",
            "    Iris-setosa       1.00      1.00      1.00         7\n",
            "Iris-versicolor       0.85      0.92      0.88        12\n",
            " Iris-virginica       0.90      0.82      0.86        11\n",
            "\n",
            "       accuracy                           0.90        30\n",
            "      macro avg       0.92      0.91      0.91        30\n",
            "   weighted avg       0.90      0.90      0.90        30\n",
            "\n"
          ]
        }
      ]
    },
    {
      "cell_type": "markdown",
      "source": [
        "Menghasilkan laporan klasifikasi yang mencakup metrik utama:\n",
        "1. Precision: Kemampuan model untuk tidak salah memprediksi kelas tertentu.\n",
        "2. Recall: Kemampuan model mendeteksi semua data aktual dari suatu kelas.\n",
        "3. F1-Score: Rata-rata harmonis antara precision dan recall.\n",
        "4. Support: Jumlah sampel data aktual di setiap kelas."
      ],
      "metadata": {
        "id": "MZnQcksbFoX4"
      }
    },
    {
      "cell_type": "code",
      "source": [
        "cm = confusion_matrix(Y_validation, predictions_knn)\n",
        "# Create a Pandas DataFrame from the confusion matrix\n",
        "classes = np.unique(Y_train)\n",
        "cm_knn = pd.DataFrame(cm, index=classes, columns=classes)\n",
        "\n",
        "plt.figure(figsize=(4, 3))\n",
        "sns.heatmap(cm_knn, annot=True, fmt=\"d\", cmap=\"Greens\")\n",
        "plt.title(\"Confusion Matrix KNN\")\n",
        "plt.ylabel(\"Actual Values\")\n",
        "plt.xlabel(\"Predicted Values\")\n",
        "plt.show()"
      ],
      "metadata": {
        "colab": {
          "base_uri": "https://localhost:8080/",
          "height": 412
        },
        "id": "-9lkJYdT29a-",
        "outputId": "a9dbb5a5-6fce-4bea-a3ed-b67f95baa8a2"
      },
      "execution_count": 57,
      "outputs": [
        {
          "output_type": "display_data",
          "data": {
            "text/plain": [
              "<Figure size 400x300 with 2 Axes>"
            ],
            "image/png": "[encoded data removed]"
          },
          "metadata": {}
        }
      ]
    },
    {
      "cell_type": "markdown",
      "source": [
        "**Penjelasan KNN**\n",
        "\n",
        "Akurasi Total: 90% (0.90)\n",
        "\n",
        "Model KNN berhasil memprediksi dengan benar 27 dari 30 data validasi. Data Ini menunjukkan bahwa model memiliki performa yang sangat baik dalam mengklasifikasikan data uji.\n",
        "\n",
        "<br>\n",
        "\n",
        "---\n",
        "\n",
        "<br>\n",
        "\n",
        "Kesalahan Prediksi:\n",
        "\n",
        "**Iris-versicolor:**\n",
        "1 sampel salah diprediksi sebagai Iris-virginica.\n",
        "\n",
        "**Iris-virginica:**\n",
        "2 sampel salah diprediksi sebagai Iris-versicolor.\n",
        "Total kesalahan prediksi = 3 sampel.\n",
        "\n",
        "<br>\n",
        "\n",
        "---\n",
        "\n",
        "\n",
        "Penjelasan Metrix\n",
        "1.\t**Precision:**\n",
        "* Iris-setosa: 1.00 (semua prediksi kelas ini benar).\n",
        "* Iris-versicolor: 0.85 (15% prediksi kelas ini salah).\n",
        "* Iris-virginica: 0.90 (10% prediksi kelas ini salah).\n",
        "\n",
        "<br>\n",
        "\n",
        "2.\t**Recall:**\n",
        "* Iris-setosa: 1.00 (semua data aktual terdeteksi).\n",
        "* Iris-versicolor: 0.92 (8% data aktual salah diklasifikasikan).\n",
        "* Iris-virginica: 0.82 (18% data aktual salah diklasifikasikan).\n",
        "\n",
        "<br>\n",
        "\n",
        "3.\t**F1-Score:**\n",
        "* Iris-setosa: 1.00.\n",
        "* Iris-versicolor: 0.88.\n",
        "* Iris-virginica: 0.86.\n",
        "\n",
        "<br>\n",
        "\n",
        "4.\t**Rata-rata:**\n",
        "* Macro Average: 0.91 (rata-rata sederhana semua metrik).\n",
        "* Weighted Average: 0.90 (rata-rata metrik yang memperhitungkan jumlah sampel di setiap kelas)."
      ],
      "metadata": {
        "id": "RuqJFgjY8Unw"
      }
    },
    {
      "cell_type": "markdown",
      "source": [
        "## **Model Naive Bayes**"
      ],
      "metadata": {
        "id": "lH2JUHuU3Qf-"
      }
    },
    {
      "cell_type": "code",
      "source": [
        "nb = GaussianNB()\n",
        "nb.fit(X_train, Y_train)\n",
        "predictions_nb = nb.predict(X_validation)\n",
        "print(accuracy_score(Y_validation, predictions_nb))\n",
        "print(confusion_matrix(Y_validation, predictions_nb))\n",
        "print(classification_report(Y_validation, predictions_nb))"
      ],
      "metadata": {
        "colab": {
          "base_uri": "https://localhost:8080/"
        },
        "id": "javz8Opy3Sg4",
        "outputId": "0e89ee10-b9ca-4d5d-87a1-777fd7a58f17"
      },
      "execution_count": 56,
      "outputs": [
        {
          "output_type": "stream",
          "name": "stdout",
          "text": [
            "0.8333333333333334\n",
            "[[7 0 0]\n",
            " [0 9 3]\n",
            " [0 2 9]]\n",
            "                 precision    recall  f1-score   support\n",
            "\n",
            "    Iris-setosa       1.00      1.00      1.00         7\n",
            "Iris-versicolor       0.82      0.75      0.78        12\n",
            " Iris-virginica       0.75      0.82      0.78        11\n",
            "\n",
            "       accuracy                           0.83        30\n",
            "      macro avg       0.86      0.86      0.86        30\n",
            "   weighted avg       0.84      0.83      0.83        30\n",
            "\n"
          ]
        }
      ]
    },
    {
      "cell_type": "markdown",
      "source": [
        "Menghasilkan laporan klasifikasi yang mencakup metrik utama:\n",
        "1. Precision: Kemampuan model untuk tidak salah memprediksi kelas tertentu.\n",
        "2. Recall: Kemampuan model mendeteksi semua data aktual dari suatu kelas.\n",
        "3. F1-Score: Rata-rata harmonis antara precision dan recall.\n",
        "4. Support: Jumlah sampel data aktual di setiap kelas."
      ],
      "metadata": {
        "id": "HgEc1r-RGVVD"
      }
    },
    {
      "cell_type": "code",
      "source": [
        "cm = confusion_matrix(Y_validation, predictions_nb)\n",
        "# Create a Pandas DataFrame from the confusion matrix\n",
        "classes = np.unique(Y_train)\n",
        "cm_nb = pd.DataFrame(cm, index=classes, columns=classes)\n",
        "\n",
        "plt.figure(figsize=(4, 3))\n",
        "sns.heatmap(cm_nb, annot=True, fmt=\"d\", cmap=\"Reds\")\n",
        "plt.title(\"Confusion Matrix Naive Bayes\")\n",
        "plt.ylabel(\"Actual Values\")\n",
        "plt.xlabel(\"Predicted Values\")\n",
        "plt.show()"
      ],
      "metadata": {
        "colab": {
          "base_uri": "https://localhost:8080/",
          "height": 412
        },
        "id": "BT2nAwA13XKD",
        "outputId": "fc967e7d-ce5b-47f4-da9d-32fc2ce665ea"
      },
      "execution_count": 58,
      "outputs": [
        {
          "output_type": "display_data",
          "data": {
            "text/plain": [
              "<Figure size 400x300 with 2 Axes>"
            ],
            "image/png": "[encoded data removed]"
          },
          "metadata": {}
        }
      ]
    },
    {
      "cell_type": "markdown",
      "source": [
        "**Penjelasan Naive Bayes**\n",
        "\n",
        "Akurasi Total: 83.33% (0.83)\n",
        "\n",
        "Model Naive Bayes berhasil memprediksi dengan benar 25 dari 30 data validasi. Data ini menunjukkan performa model cukup baik namun lebih rendah dibandingkan KNN.\n",
        "\n",
        "<br>\n",
        "\n",
        "---\n",
        "\n",
        "<br>\n",
        "\n",
        "Kesalahan Prediksi:\n",
        "\n",
        "**Iris-versicolor:**\n",
        "3 sampel salah diprediksi sebagai Iris-virginica.\n",
        "\n",
        "**Iris-virginica:**\n",
        "2 sampel salah diprediksi sebagai Iris-versicolor.\n",
        "Total kesalahan prediksi = 5 sampel.\n",
        "\n",
        "<br>\n",
        "\n",
        "---\n",
        "\n",
        "<br>\n",
        "\n",
        "Penjelasan Metrix\n",
        "1.\t**Precision:**\n",
        "* Iris-setosa: 1.00 (semua prediksi kelas ini benar).\n",
        "* Iris-versicolor: 0.82 (18% prediksi kelas ini salah).\n",
        "* Iris-virginica: 0.75 (25% prediksi kelas ini salah).\n",
        "\n",
        "<br>\n",
        "\n",
        "2.\t**Recall:**\n",
        "* Iris-setosa: 1.00 (semua data aktual terdeteksi).\n",
        "* Iris-versicolor: 0.75 (25% data aktual salah diklasifikasikan).\n",
        "* Iris-virginica: 0.82 (18% data aktual salah diklasifikasikan).\n",
        "\n",
        "<br>\n",
        "\n",
        "3.\t**F1-Score:**\n",
        "* Iris-setosa: 1.00.\n",
        "* Iris-versicolor: 0.78.\n",
        "* Iris-virginica: 0.78.\n",
        "\n",
        "<br>\n",
        "\n",
        "4.\t**Rata-rata:**\n",
        "* Macro Average: 0.86 (rata-rata sederhana semua metrik).\n",
        "* Weighted Average: 0.83 (rata-rata metrik yang memperhitungkan jumlah sampel di setiap kelas)."
      ],
      "metadata": {
        "id": "HuPpuS99AyHS"
      }
    }
  ]
}